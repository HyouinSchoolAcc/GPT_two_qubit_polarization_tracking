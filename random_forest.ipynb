{
 "cells": [
  {
   "cell_type": "code",
   "execution_count": 1,
   "id": "6a8a6315-b99e-4177-8971-ddee82adf3bb",
   "metadata": {},
   "outputs": [],
   "source": [
    "import pandas as pd\n",
    "from datetime import datetime\n",
    "import numpy as np\n",
    "import matplotlib.pyplot as plt\n",
    "from sklearn.model_selection import train_test_split\n",
    "from sklearn.ensemble import RandomForestRegressor\n",
    "from sklearn.metrics import mean_squared_error, r2_score\n",
    "from scipy.stats import pearsonr"
   ]
  },
  {
   "cell_type": "code",
   "execution_count": 2,
   "id": "fabdfc32-adc4-4d98-b54a-66be21f64750",
   "metadata": {},
   "outputs": [
    {
     "name": "stderr",
     "output_type": "stream",
     "text": [
      "C:\\Users\\yueze\\AppData\\Local\\Temp\\ipykernel_15064\\4179976147.py:1: DtypeWarning: Columns (0,1,2,3,4,5) have mixed types. Specify dtype option on import or set low_memory=False.\n",
      "  df_full = pd.read_csv(\"./20240229_2308.csv\", header=None)\n"
     ]
    },
    {
     "name": "stdout",
     "output_type": "stream",
     "text": [
      "The maximum length of the dataset is: 12546118\n"
     ]
    },
    {
     "name": "stderr",
     "output_type": "stream",
     "text": [
      "C:\\Users\\yueze\\AppData\\Local\\Temp\\ipykernel_15064\\4179976147.py:14: DtypeWarning: Columns (0,1,2,3,4,5) have mixed types. Specify dtype option on import or set low_memory=False.\n",
      "  df = pd.read_csv(\"./20240229_2308.csv\", header=None).iloc[1:length_read:10000, :6]\n"
     ]
    },
    {
     "data": {
      "text/html": [
       "<div>\n",
       "<style scoped>\n",
       "    .dataframe tbody tr th:only-of-type {\n",
       "        vertical-align: middle;\n",
       "    }\n",
       "\n",
       "    .dataframe tbody tr th {\n",
       "        vertical-align: top;\n",
       "    }\n",
       "\n",
       "    .dataframe thead th {\n",
       "        text-align: right;\n",
       "    }\n",
       "</style>\n",
       "<table border=\"1\" class=\"dataframe\">\n",
       "  <thead>\n",
       "    <tr style=\"text-align: right;\">\n",
       "      <th></th>\n",
       "      <th>l1</th>\n",
       "      <th>l2</th>\n",
       "      <th>l3</th>\n",
       "      <th>r1</th>\n",
       "      <th>r2</th>\n",
       "      <th>r3</th>\n",
       "    </tr>\n",
       "  </thead>\n",
       "  <tbody>\n",
       "    <tr>\n",
       "      <th>1</th>\n",
       "      <td>-2.390720118768513</td>\n",
       "      <td>-0.5347981965169311</td>\n",
       "      <td>-0.16361381206661463</td>\n",
       "      <td>0.9987793918699026</td>\n",
       "      <td>-0.13430978171527386</td>\n",
       "      <td>-2.253967977128923</td>\n",
       "    </tr>\n",
       "    <tr>\n",
       "      <th>10001</th>\n",
       "      <td>-2.3809521086513996</td>\n",
       "      <td>-0.5934062572196126</td>\n",
       "      <td>-0.13430978171527386</td>\n",
       "      <td>1.0573874525725842</td>\n",
       "      <td>-0.11477376148104668</td>\n",
       "      <td>-2.224663946777582</td>\n",
       "    </tr>\n",
       "    <tr>\n",
       "      <th>20001</th>\n",
       "      <td>-2.371184098534286</td>\n",
       "      <td>-0.6422463078051805</td>\n",
       "      <td>-0.14407779183238745</td>\n",
       "      <td>1.0769234728068113</td>\n",
       "      <td>-0.07570172101259232</td>\n",
       "      <td>-2.224663946777582</td>\n",
       "    </tr>\n",
       "    <tr>\n",
       "      <th>30001</th>\n",
       "      <td>-2.371184098534286</td>\n",
       "      <td>-0.6129422774538398</td>\n",
       "      <td>-0.21245386265218258</td>\n",
       "      <td>1.0085474019870162</td>\n",
       "      <td>-0.036629680544137955</td>\n",
       "      <td>-2.2344319568946958</td>\n",
       "    </tr>\n",
       "    <tr>\n",
       "      <th>40001</th>\n",
       "      <td>-2.3809521086513996</td>\n",
       "      <td>-0.6031742673367262</td>\n",
       "      <td>-0.11477376148104668</td>\n",
       "      <td>1.0769234728068113</td>\n",
       "      <td>-0.15384580194950104</td>\n",
       "      <td>-2.224663946777582</td>\n",
       "    </tr>\n",
       "  </tbody>\n",
       "</table>\n",
       "</div>"
      ],
      "text/plain": [
       "                        l1                   l2                    l3  \\\n",
       "1       -2.390720118768513  -0.5347981965169311  -0.16361381206661463   \n",
       "10001  -2.3809521086513996  -0.5934062572196126  -0.13430978171527386   \n",
       "20001   -2.371184098534286  -0.6422463078051805  -0.14407779183238745   \n",
       "30001   -2.371184098534286  -0.6129422774538398  -0.21245386265218258   \n",
       "40001  -2.3809521086513996  -0.6031742673367262  -0.11477376148104668   \n",
       "\n",
       "                       r1                     r2                   r3  \n",
       "1      0.9987793918699026   -0.13430978171527386   -2.253967977128923  \n",
       "10001  1.0573874525725842   -0.11477376148104668   -2.224663946777582  \n",
       "20001  1.0769234728068113   -0.07570172101259232   -2.224663946777582  \n",
       "30001  1.0085474019870162  -0.036629680544137955  -2.2344319568946958  \n",
       "40001  1.0769234728068113   -0.15384580194950104   -2.224663946777582  "
      ]
     },
     "execution_count": 2,
     "metadata": {},
     "output_type": "execute_result"
    }
   ],
   "source": [
    "df_full = pd.read_csv(\"./20240229_2308.csv\", header=None)\n",
    "\n",
    "# The maximum length of the dataset is the number of rows\n",
    "max_length = df_full.shape[0]\n",
    "\n",
    "# Print the maximum length\n",
    "print(f\"The maximum length of the dataset is: {max_length}\")\n",
    "\n",
    "# Now, you can use this information to set length_read appropriately\n",
    "length_read = min(12546000, max_length)  # for example, to limit it to 100000 or the maximum length available\n",
    "\n",
    "df_reduced = df_full.iloc[::10000, :]\n",
    "# Proceed with loading the desired portion of the dataset\n",
    "df = pd.read_csv(\"./20240229_2308.csv\", header=None).iloc[1:length_read:10000, :6]\n",
    "df.columns = [\"l1\",\"l2\",\"l3\",\"r1\",\"r2\",\"r3\"]\n",
    "df.head()"
   ]
  },
  {
   "cell_type": "code",
   "execution_count": 3,
   "id": "1031f869-4742-4594-90f6-96886564a902",
   "metadata": {},
   "outputs": [],
   "source": [
    "targets = [\"r1\", \"r2\", \"r3\"]"
   ]
  },
  {
   "cell_type": "code",
   "execution_count": 4,
   "id": "6486a9a3-8ac6-41d5-837d-a1d6efecf75a",
   "metadata": {},
   "outputs": [
    {
     "name": "stdout",
     "output_type": "stream",
     "text": [
      "The maximum length of the dataset is: 1255\n"
     ]
    }
   ],
   "source": [
    "max_length = df.shape[0]\n",
    "\n",
    "# Print the maximum length\n",
    "print(f\"The maximum length of the dataset is: {max_length}\")\n"
   ]
  },
  {
   "cell_type": "code",
   "execution_count": 5,
   "id": "8c6488f8-5999-4af2-b66a-04bc2f19f88b",
   "metadata": {},
   "outputs": [],
   "source": [
    "x = df.drop(columns=targets)\n",
    "y = df[targets]"
   ]
  },
  {
   "cell_type": "code",
   "execution_count": 6,
   "id": "4cdf372b-7e23-4659-b32e-381323d837f2",
   "metadata": {},
   "outputs": [],
   "source": [
    "x_train, x_test, y_train, y_test = train_test_split(x, y, test_size=0.2)"
   ]
  },
  {
   "cell_type": "code",
   "execution_count": 7,
   "id": "87deb4e9-00a6-4d62-a520-d5338d2c336b",
   "metadata": {},
   "outputs": [],
   "source": [
    "model = RandomForestRegressor()\n",
    "model.fit(x_train, y_train)\n",
    "y_pred = model.predict(x_test)\n"
   ]
  },
  {
   "cell_type": "code",
   "execution_count": 8,
   "id": "b50aa661-88fb-4356-a0aa-197b0c9f530a",
   "metadata": {},
   "outputs": [
    {
     "name": "stdout",
     "output_type": "stream",
     "text": [
      "float64\n",
      "float64\n"
     ]
    }
   ],
   "source": [
    "print (y_pred.dtype) \n",
    "print (y_test.astype(np.float64).values.dtype)\n"
   ]
  },
  {
   "cell_type": "code",
   "execution_count": 9,
   "id": "a9e0de82-021c-452f-ad77-e7251ded0732",
   "metadata": {},
   "outputs": [
    {
     "name": "stdout",
     "output_type": "stream",
     "text": [
      "Correlation coefficient: 0.9997941846359597\n"
     ]
    }
   ],
   "source": [
    "correlation_coef, _ = pearsonr(y_pred.flatten(), y_test.astype(np.float64).values.flatten())\n",
    "\n",
    "\n",
    "print(f\"Correlation coefficient: {correlation_coef}\")"
   ]
  },
  {
   "cell_type": "code",
   "execution_count": 10,
   "id": "9b5da3a9-1f62-49bd-b12a-ed3efa826006",
   "metadata": {},
   "outputs": [
    {
     "name": "stderr",
     "output_type": "stream",
     "text": [
      "C:\\Users\\yueze\\AppData\\Local\\Temp\\ipykernel_15064\\1013062250.py:1: DtypeWarning: Columns (0,1,2,3,4,5) have mixed types. Specify dtype option on import or set low_memory=False.\n",
      "  df = pd.read_csv(\"./20240229_2308.csv\", header=None).iloc[1:length_read:1000, :6]\n"
     ]
    },
    {
     "name": "stdout",
     "output_type": "stream",
     "text": [
      "The maximum length of the dataset is: 12546\n",
      "Correlation coefficient: 0.9998373933052254\n"
     ]
    }
   ],
   "source": [
    "df = pd.read_csv(\"./20240229_2308.csv\", header=None).iloc[1:length_read:1000, :6]\n",
    "df.columns = [\"l1\",\"l2\",\"l3\",\"r1\",\"r2\",\"r3\"]\n",
    "df.head()\n",
    "targets = [\"r1\", \"r2\", \"r3\"]\n",
    "max_length = df.shape[0]\n",
    "\n",
    "# Print the maximum length\n",
    "print(f\"The maximum length of the dataset is: {max_length}\")\n",
    "x = df.drop(columns=targets)\n",
    "y = df[targets]\n",
    "x_train, x_test, y_train, y_test = train_test_split(x, y, test_size=0.2)\n",
    "model = RandomForestRegressor()\n",
    "model.fit(x_train, y_train)\n",
    "y_pred = model.predict(x_test)\n",
    "correlation_coef, _ = pearsonr(y_pred.flatten(), y_test.astype(np.float64).values.flatten())\n",
    "\n",
    "\n",
    "print(f\"Correlation coefficient: {correlation_coef}\")"
   ]
  },
  {
   "cell_type": "code",
   "execution_count": 11,
   "id": "1f007792-33ce-49f4-ad80-284134a76190",
   "metadata": {},
   "outputs": [
    {
     "name": "stderr",
     "output_type": "stream",
     "text": [
      "C:\\Users\\yueze\\AppData\\Local\\Temp\\ipykernel_15064\\1013062250.py:1: DtypeWarning: Columns (0,1,2,3,4,5) have mixed types. Specify dtype option on import or set low_memory=False.\n",
      "  df = pd.read_csv(\"./20240229_2308.csv\", header=None).iloc[1:length_read:1000, :6]\n"
     ]
    },
    {
     "name": "stdout",
     "output_type": "stream",
     "text": [
      "The maximum length of the dataset is: 12546\n",
      "Correlation coefficient: 0.9998401974199176\n"
     ]
    }
   ],
   "source": [
    "df = pd.read_csv(\"./20240229_2308.csv\", header=None).iloc[1:length_read:1000, :6]\n",
    "df.columns = [\"l1\",\"l2\",\"l3\",\"r1\",\"r2\",\"r3\"]\n",
    "df.head()\n",
    "targets = [\"r1\", \"r2\", \"r3\"]\n",
    "max_length = df.shape[0]\n",
    "\n",
    "# Print the maximum length\n",
    "print(f\"The maximum length of the dataset is: {max_length}\")\n",
    "x = df.drop(columns=targets)\n",
    "y = df[targets]\n",
    "x_train, x_test, y_train, y_test = train_test_split(x, y, test_size=0.2)\n",
    "model = RandomForestRegressor()\n",
    "model.fit(x_train, y_train)\n",
    "y_pred = model.predict(x_test)\n",
    "correlation_coef, _ = pearsonr(y_pred.flatten(), y_test.astype(np.float64).values.flatten())\n",
    "\n",
    "\n",
    "print(f\"Correlation coefficient: {correlation_coef}\")"
   ]
  },
  {
   "cell_type": "code",
   "execution_count": 12,
   "id": "4a443270-45b4-4925-ac42-435f5dc9c9a0",
   "metadata": {},
   "outputs": [
    {
     "name": "stdout",
     "output_type": "stream",
     "text": [
      "[0.1750431  0.47726533 0.55054169 ... 1.82974401 1.86128329 1.2960004 ]\n",
      "Correlation coefficient for dimension 0: 0.9987981332729454\n",
      "[1.39838869 1.77507246 0.35842121 ... 1.35941433 1.30348921 0.16610537]\n",
      "Correlation coefficient for dimension 1: 0.9987943793050271\n",
      "[-1.99560411 -1.63018936 -2.37494478 ... -0.89807049 -0.90200212\n",
      " -2.08451254]\n",
      "Correlation coefficient for dimension 2: 0.9989420049171962\n"
     ]
    }
   ],
   "source": [
    "y_pred = np.array(y_pred)\n",
    "y_test = np.array(y_test)\n",
    "\n",
    "# Check if y_pred and y_test have the same shape\n",
    "if y_pred.shape != y_test.shape:\n",
    "    print(\"y_pred and y_test must have the same shape!\")\n",
    "else:\n",
    "    # Iterate through each dimension (column) to compute correlation coefficient\n",
    "    for i in range(y_pred.shape[1]):\n",
    "        corr_coef, _ = pearsonr(y_pred[:, i], y_test[:, i].astype(np.float64))\n",
    "        print (y_pred[:, i])\n",
    "        print(f\"Correlation coefficient for dimension {i}: {corr_coef}\")"
   ]
  },
  {
   "cell_type": "code",
   "execution_count": 13,
   "id": "ab69ca2f-d50a-4134-a13a-85076915533f",
   "metadata": {},
   "outputs": [
    {
     "name": "stdout",
     "output_type": "stream",
     "text": [
      "[ 1.2960004   0.16610537 -2.08451254] [1.3113557156175375 0.178266542032361 -2.0781437950208783]\n"
     ]
    }
   ],
   "source": [
    "print (y_pred[-1], y_test[-1])"
   ]
  },
  {
   "cell_type": "code",
   "execution_count": 14,
   "id": "f139102f-4a26-4447-a0e0-e5fbf7b1cf3b",
   "metadata": {},
   "outputs": [
    {
     "ename": "ValueError",
     "evalue": "x and y must have same first dimension, but have shapes (12546,) and (2510,)",
     "output_type": "error",
     "traceback": [
      "\u001b[1;31m---------------------------------------------------------------------------\u001b[0m",
      "\u001b[1;31mValueError\u001b[0m                                Traceback (most recent call last)",
      "Cell \u001b[1;32mIn[14], line 6\u001b[0m\n\u001b[0;32m      4\u001b[0m plt\u001b[38;5;241m.\u001b[39mplot(index_sequence, df[\u001b[38;5;124m\"\u001b[39m\u001b[38;5;124ml1\u001b[39m\u001b[38;5;124m\"\u001b[39m]\u001b[38;5;241m.\u001b[39mastype(np\u001b[38;5;241m.\u001b[39mfloat64)\u001b[38;5;241m.\u001b[39mvalues, label\u001b[38;5;241m=\u001b[39m\u001b[38;5;124m\"\u001b[39m\u001b[38;5;124ml1\u001b[39m\u001b[38;5;124m\"\u001b[39m)\n\u001b[0;32m      5\u001b[0m plt\u001b[38;5;241m.\u001b[39mplot(index_sequence, df[\u001b[38;5;124m\"\u001b[39m\u001b[38;5;124mr1\u001b[39m\u001b[38;5;124m\"\u001b[39m]\u001b[38;5;241m.\u001b[39mastype(np\u001b[38;5;241m.\u001b[39mfloat64)\u001b[38;5;241m.\u001b[39mvalues, label\u001b[38;5;241m=\u001b[39m\u001b[38;5;124m\"\u001b[39m\u001b[38;5;124mr1\u001b[39m\u001b[38;5;124m\"\u001b[39m)\n\u001b[1;32m----> 6\u001b[0m plt\u001b[38;5;241m.\u001b[39mplot(index_sequence, y_pred[:, i], label\u001b[38;5;241m=\u001b[39m\u001b[38;5;124m\"\u001b[39m\u001b[38;5;124mr1\u001b[39m\u001b[38;5;124m\"\u001b[39m)\n\u001b[0;32m      7\u001b[0m plt\u001b[38;5;241m.\u001b[39mlegend(loc\u001b[38;5;241m=\u001b[39m\u001b[38;5;124m\"\u001b[39m\u001b[38;5;124mupper left\u001b[39m\u001b[38;5;124m\"\u001b[39m)\n\u001b[0;32m      8\u001b[0m plt\u001b[38;5;241m.\u001b[39mxlabel(\u001b[38;5;124m\"\u001b[39m\u001b[38;5;124mIndex\u001b[39m\u001b[38;5;124m\"\u001b[39m)\n",
      "File \u001b[1;32m~\\anaconda3\\Lib\\site-packages\\matplotlib\\pyplot.py:3578\u001b[0m, in \u001b[0;36mplot\u001b[1;34m(scalex, scaley, data, *args, **kwargs)\u001b[0m\n\u001b[0;32m   3570\u001b[0m \u001b[38;5;129m@_copy_docstring_and_deprecators\u001b[39m(Axes\u001b[38;5;241m.\u001b[39mplot)\n\u001b[0;32m   3571\u001b[0m \u001b[38;5;28;01mdef\u001b[39;00m \u001b[38;5;21mplot\u001b[39m(\n\u001b[0;32m   3572\u001b[0m     \u001b[38;5;241m*\u001b[39margs: \u001b[38;5;28mfloat\u001b[39m \u001b[38;5;241m|\u001b[39m ArrayLike \u001b[38;5;241m|\u001b[39m \u001b[38;5;28mstr\u001b[39m,\n\u001b[1;32m   (...)\u001b[0m\n\u001b[0;32m   3576\u001b[0m     \u001b[38;5;241m*\u001b[39m\u001b[38;5;241m*\u001b[39mkwargs,\n\u001b[0;32m   3577\u001b[0m ) \u001b[38;5;241m-\u001b[39m\u001b[38;5;241m>\u001b[39m \u001b[38;5;28mlist\u001b[39m[Line2D]:\n\u001b[1;32m-> 3578\u001b[0m     \u001b[38;5;28;01mreturn\u001b[39;00m gca()\u001b[38;5;241m.\u001b[39mplot(\n\u001b[0;32m   3579\u001b[0m         \u001b[38;5;241m*\u001b[39margs,\n\u001b[0;32m   3580\u001b[0m         scalex\u001b[38;5;241m=\u001b[39mscalex,\n\u001b[0;32m   3581\u001b[0m         scaley\u001b[38;5;241m=\u001b[39mscaley,\n\u001b[0;32m   3582\u001b[0m         \u001b[38;5;241m*\u001b[39m\u001b[38;5;241m*\u001b[39m({\u001b[38;5;124m\"\u001b[39m\u001b[38;5;124mdata\u001b[39m\u001b[38;5;124m\"\u001b[39m: data} \u001b[38;5;28;01mif\u001b[39;00m data \u001b[38;5;129;01mis\u001b[39;00m \u001b[38;5;129;01mnot\u001b[39;00m \u001b[38;5;28;01mNone\u001b[39;00m \u001b[38;5;28;01melse\u001b[39;00m {}),\n\u001b[0;32m   3583\u001b[0m         \u001b[38;5;241m*\u001b[39m\u001b[38;5;241m*\u001b[39mkwargs,\n\u001b[0;32m   3584\u001b[0m     )\n",
      "File \u001b[1;32m~\\anaconda3\\Lib\\site-packages\\matplotlib\\axes\\_axes.py:1721\u001b[0m, in \u001b[0;36mAxes.plot\u001b[1;34m(self, scalex, scaley, data, *args, **kwargs)\u001b[0m\n\u001b[0;32m   1478\u001b[0m \u001b[38;5;250m\u001b[39m\u001b[38;5;124;03m\"\"\"\u001b[39;00m\n\u001b[0;32m   1479\u001b[0m \u001b[38;5;124;03mPlot y versus x as lines and/or markers.\u001b[39;00m\n\u001b[0;32m   1480\u001b[0m \n\u001b[1;32m   (...)\u001b[0m\n\u001b[0;32m   1718\u001b[0m \u001b[38;5;124;03m(``'green'``) or hex strings (``'#008000'``).\u001b[39;00m\n\u001b[0;32m   1719\u001b[0m \u001b[38;5;124;03m\"\"\"\u001b[39;00m\n\u001b[0;32m   1720\u001b[0m kwargs \u001b[38;5;241m=\u001b[39m cbook\u001b[38;5;241m.\u001b[39mnormalize_kwargs(kwargs, mlines\u001b[38;5;241m.\u001b[39mLine2D)\n\u001b[1;32m-> 1721\u001b[0m lines \u001b[38;5;241m=\u001b[39m [\u001b[38;5;241m*\u001b[39m\u001b[38;5;28mself\u001b[39m\u001b[38;5;241m.\u001b[39m_get_lines(\u001b[38;5;28mself\u001b[39m, \u001b[38;5;241m*\u001b[39margs, data\u001b[38;5;241m=\u001b[39mdata, \u001b[38;5;241m*\u001b[39m\u001b[38;5;241m*\u001b[39mkwargs)]\n\u001b[0;32m   1722\u001b[0m \u001b[38;5;28;01mfor\u001b[39;00m line \u001b[38;5;129;01min\u001b[39;00m lines:\n\u001b[0;32m   1723\u001b[0m     \u001b[38;5;28mself\u001b[39m\u001b[38;5;241m.\u001b[39madd_line(line)\n",
      "File \u001b[1;32m~\\anaconda3\\Lib\\site-packages\\matplotlib\\axes\\_base.py:303\u001b[0m, in \u001b[0;36m_process_plot_var_args.__call__\u001b[1;34m(self, axes, data, *args, **kwargs)\u001b[0m\n\u001b[0;32m    301\u001b[0m     this \u001b[38;5;241m+\u001b[39m\u001b[38;5;241m=\u001b[39m args[\u001b[38;5;241m0\u001b[39m],\n\u001b[0;32m    302\u001b[0m     args \u001b[38;5;241m=\u001b[39m args[\u001b[38;5;241m1\u001b[39m:]\n\u001b[1;32m--> 303\u001b[0m \u001b[38;5;28;01myield from\u001b[39;00m \u001b[38;5;28mself\u001b[39m\u001b[38;5;241m.\u001b[39m_plot_args(\n\u001b[0;32m    304\u001b[0m     axes, this, kwargs, ambiguous_fmt_datakey\u001b[38;5;241m=\u001b[39mambiguous_fmt_datakey)\n",
      "File \u001b[1;32m~\\anaconda3\\Lib\\site-packages\\matplotlib\\axes\\_base.py:499\u001b[0m, in \u001b[0;36m_process_plot_var_args._plot_args\u001b[1;34m(self, axes, tup, kwargs, return_kwargs, ambiguous_fmt_datakey)\u001b[0m\n\u001b[0;32m    496\u001b[0m     axes\u001b[38;5;241m.\u001b[39myaxis\u001b[38;5;241m.\u001b[39mupdate_units(y)\n\u001b[0;32m    498\u001b[0m \u001b[38;5;28;01mif\u001b[39;00m x\u001b[38;5;241m.\u001b[39mshape[\u001b[38;5;241m0\u001b[39m] \u001b[38;5;241m!=\u001b[39m y\u001b[38;5;241m.\u001b[39mshape[\u001b[38;5;241m0\u001b[39m]:\n\u001b[1;32m--> 499\u001b[0m     \u001b[38;5;28;01mraise\u001b[39;00m \u001b[38;5;167;01mValueError\u001b[39;00m(\u001b[38;5;124mf\u001b[39m\u001b[38;5;124m\"\u001b[39m\u001b[38;5;124mx and y must have same first dimension, but \u001b[39m\u001b[38;5;124m\"\u001b[39m\n\u001b[0;32m    500\u001b[0m                      \u001b[38;5;124mf\u001b[39m\u001b[38;5;124m\"\u001b[39m\u001b[38;5;124mhave shapes \u001b[39m\u001b[38;5;132;01m{\u001b[39;00mx\u001b[38;5;241m.\u001b[39mshape\u001b[38;5;132;01m}\u001b[39;00m\u001b[38;5;124m and \u001b[39m\u001b[38;5;132;01m{\u001b[39;00my\u001b[38;5;241m.\u001b[39mshape\u001b[38;5;132;01m}\u001b[39;00m\u001b[38;5;124m\"\u001b[39m)\n\u001b[0;32m    501\u001b[0m \u001b[38;5;28;01mif\u001b[39;00m x\u001b[38;5;241m.\u001b[39mndim \u001b[38;5;241m>\u001b[39m \u001b[38;5;241m2\u001b[39m \u001b[38;5;129;01mor\u001b[39;00m y\u001b[38;5;241m.\u001b[39mndim \u001b[38;5;241m>\u001b[39m \u001b[38;5;241m2\u001b[39m:\n\u001b[0;32m    502\u001b[0m     \u001b[38;5;28;01mraise\u001b[39;00m \u001b[38;5;167;01mValueError\u001b[39;00m(\u001b[38;5;124mf\u001b[39m\u001b[38;5;124m\"\u001b[39m\u001b[38;5;124mx and y can be no greater than 2D, but have \u001b[39m\u001b[38;5;124m\"\u001b[39m\n\u001b[0;32m    503\u001b[0m                      \u001b[38;5;124mf\u001b[39m\u001b[38;5;124m\"\u001b[39m\u001b[38;5;124mshapes \u001b[39m\u001b[38;5;132;01m{\u001b[39;00mx\u001b[38;5;241m.\u001b[39mshape\u001b[38;5;132;01m}\u001b[39;00m\u001b[38;5;124m and \u001b[39m\u001b[38;5;132;01m{\u001b[39;00my\u001b[38;5;241m.\u001b[39mshape\u001b[38;5;132;01m}\u001b[39;00m\u001b[38;5;124m\"\u001b[39m)\n",
      "\u001b[1;31mValueError\u001b[0m: x and y must have same first dimension, but have shapes (12546,) and (2510,)"
     ]
    },
    {
     "data": {
      "image/png": "[encoded data removed]",
      "text/plain": [
       "<Figure size 1800x400 with 1 Axes>"
      ]
     },
     "metadata": {},
     "output_type": "display_data"
    }
   ],
   "source": [
    "index_sequence = range(1, len(df) + 1)\n",
    "\n",
    "plt.figure(figsize=(18, 4))\n",
    "plt.plot(index_sequence, df[\"l1\"].astype(np.float64).values, label=\"l1\")\n",
    "plt.plot(index_sequence, df[\"r1\"].astype(np.float64).values, label=\"r1\")\n",
    "plt.plot(index_sequence, y_pred[:, i], label=\"r1\")\n",
    "plt.legend(loc=\"upper left\")\n",
    "plt.xlabel(\"Index\")\n",
    "plt.show()"
   ]
  },
  {
   "cell_type": "code",
   "execution_count": null,
   "id": "179a3b6f-f4d4-4882-9831-1d8d0c460be2",
   "metadata": {},
   "outputs": [],
   "source": []
  }
 ],
 "metadata": {
  "kernelspec": {
   "display_name": "Python 3 (ipykernel)",
   "language": "python",
   "name": "python3"
  },
  "language_info": {
   "codemirror_mode": {
    "name": "ipython",
    "version": 3
   },
   "file_extension": ".py",
   "mimetype": "text/x-python",
   "name": "python",
   "nbconvert_exporter": "python",
   "pygments_lexer": "ipython3",
   "version": "3.11.5"
  }
 },
 "nbformat": 4,
 "nbformat_minor": 5
}
