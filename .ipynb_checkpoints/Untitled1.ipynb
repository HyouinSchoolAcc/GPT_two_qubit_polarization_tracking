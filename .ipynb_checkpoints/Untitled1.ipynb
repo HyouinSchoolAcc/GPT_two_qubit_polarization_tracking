{
 "cells": [
  {
   "cell_type": "code",
   "execution_count": 1,
   "id": "6a8a6315-b99e-4177-8971-ddee82adf3bb",
   "metadata": {},
   "outputs": [],
   "source": [
    "import pandas as pd\n",
    "from datetime import datetime\n",
    "import numpy as np\n",
    "import matplotlib.pyplot as plt\n",
    "from sklearn.model_selection import train_test_split\n",
    "from sklearn.ensemble import RandomForestRegressor\n",
    "from sklearn.metrics import mean_squared_error, r2_score\n",
    "from scipy.stats import pearsonr"
   ]
  },
  {
   "cell_type": "code",
   "execution_count": 2,
   "id": "fabdfc32-adc4-4d98-b54a-66be21f64750",
   "metadata": {},
   "outputs": [
    {
     "name": "stderr",
     "output_type": "stream",
     "text": [
      "C:\\Users\\yueze\\AppData\\Local\\Temp\\ipykernel_3296\\325005986.py:1: DtypeWarning: Columns (0,1,2,3,4,5) have mixed types. Specify dtype option on import or set low_memory=False.\n",
      "  df_full = pd.read_csv(\"./20240229_2308.csv\", header=None)\n"
     ]
    },
    {
     "name": "stdout",
     "output_type": "stream",
     "text": [
      "The maximum length of the dataset is: 12546118\n"
     ]
    },
    {
     "name": "stderr",
     "output_type": "stream",
     "text": [
      "C:\\Users\\yueze\\AppData\\Local\\Temp\\ipykernel_3296\\325005986.py:13: DtypeWarning: Columns (0,1,2,3,4,5) have mixed types. Specify dtype option on import or set low_memory=False.\n",
      "  df = pd.read_csv(\"./20240229_2308.csv\", header=None).iloc[1:length_read, :6]\n"
     ]
    },
    {
     "data": {
      "text/html": [
       "<div>\n",
       "<style scoped>\n",
       "    .dataframe tbody tr th:only-of-type {\n",
       "        vertical-align: middle;\n",
       "    }\n",
       "\n",
       "    .dataframe tbody tr th {\n",
       "        vertical-align: top;\n",
       "    }\n",
       "\n",
       "    .dataframe thead th {\n",
       "        text-align: right;\n",
       "    }\n",
       "</style>\n",
       "<table border=\"1\" class=\"dataframe\">\n",
       "  <thead>\n",
       "    <tr style=\"text-align: right;\">\n",
       "      <th></th>\n",
       "      <th>l1</th>\n",
       "      <th>l2</th>\n",
       "      <th>l3</th>\n",
       "      <th>r1</th>\n",
       "      <th>r2</th>\n",
       "      <th>r3</th>\n",
       "    </tr>\n",
       "  </thead>\n",
       "  <tbody>\n",
       "    <tr>\n",
       "      <th>1</th>\n",
       "      <td>-2.390720118768513</td>\n",
       "      <td>-0.5347981965169311</td>\n",
       "      <td>-0.16361381206661463</td>\n",
       "      <td>0.9987793918699026</td>\n",
       "      <td>-0.13430978171527386</td>\n",
       "      <td>-2.253967977128923</td>\n",
       "    </tr>\n",
       "    <tr>\n",
       "      <th>2</th>\n",
       "      <td>-2.400488128885627</td>\n",
       "      <td>-0.5347981965169311</td>\n",
       "      <td>-0.16361381206661463</td>\n",
       "      <td>1.0085474019870162</td>\n",
       "      <td>-0.15384580194950104</td>\n",
       "      <td>-2.2637359872460365</td>\n",
       "    </tr>\n",
       "    <tr>\n",
       "      <th>3</th>\n",
       "      <td>-2.400488128885627</td>\n",
       "      <td>-0.5347981965169311</td>\n",
       "      <td>-0.16361381206661463</td>\n",
       "      <td>1.0085474019870162</td>\n",
       "      <td>-0.15384580194950104</td>\n",
       "      <td>-2.2637359872460365</td>\n",
       "    </tr>\n",
       "    <tr>\n",
       "      <th>4</th>\n",
       "      <td>-2.390720118768513</td>\n",
       "      <td>-0.5347981965169311</td>\n",
       "      <td>-0.16361381206661463</td>\n",
       "      <td>0.9987793918699026</td>\n",
       "      <td>-0.13430978171527386</td>\n",
       "      <td>-2.2637359872460365</td>\n",
       "    </tr>\n",
       "    <tr>\n",
       "      <th>5</th>\n",
       "      <td>-2.400488128885627</td>\n",
       "      <td>-0.5347981965169311</td>\n",
       "      <td>-0.17338182218372822</td>\n",
       "      <td>1.0085474019870162</td>\n",
       "      <td>-0.13430978171527386</td>\n",
       "      <td>-2.2637359872460365</td>\n",
       "    </tr>\n",
       "  </tbody>\n",
       "</table>\n",
       "</div>"
      ],
      "text/plain": [
       "                   l1                   l2                    l3  \\\n",
       "1  -2.390720118768513  -0.5347981965169311  -0.16361381206661463   \n",
       "2  -2.400488128885627  -0.5347981965169311  -0.16361381206661463   \n",
       "3  -2.400488128885627  -0.5347981965169311  -0.16361381206661463   \n",
       "4  -2.390720118768513  -0.5347981965169311  -0.16361381206661463   \n",
       "5  -2.400488128885627  -0.5347981965169311  -0.17338182218372822   \n",
       "\n",
       "                   r1                    r2                   r3  \n",
       "1  0.9987793918699026  -0.13430978171527386   -2.253967977128923  \n",
       "2  1.0085474019870162  -0.15384580194950104  -2.2637359872460365  \n",
       "3  1.0085474019870162  -0.15384580194950104  -2.2637359872460365  \n",
       "4  0.9987793918699026  -0.13430978171527386  -2.2637359872460365  \n",
       "5  1.0085474019870162  -0.13430978171527386  -2.2637359872460365  "
      ]
     },
     "execution_count": 2,
     "metadata": {},
     "output_type": "execute_result"
    }
   ],
   "source": [
    "df_full = pd.read_csv(\"./20240229_2308.csv\", header=None)\n",
    "\n",
    "# The maximum length of the dataset is the number of rows\n",
    "max_length = df_full.shape[0]\n",
    "\n",
    "# Print the maximum length\n",
    "print(f\"The maximum length of the dataset is: {max_length}\")\n",
    "\n",
    "# Now, you can use this information to set length_read appropriately\n",
    "length_read = min(12546000, max_length)  # for example, to limit it to 100000 or the maximum length available\n",
    "\n",
    "# Proceed with loading the desired portion of the dataset\n",
    "df = pd.read_csv(\"./20240229_2308.csv\", header=None).iloc[1:length_read, :6]\n",
    "df.columns = [\"l1\",\"l2\",\"l3\",\"r1\",\"r2\",\"r3\"]\n",
    "df.head()"
   ]
  },
  {
   "cell_type": "code",
   "execution_count": 3,
   "id": "1031f869-4742-4594-90f6-96886564a902",
   "metadata": {},
   "outputs": [],
   "source": [
    "targets = [\"r1\", \"r2\", \"r3\"]"
   ]
  },
  {
   "cell_type": "code",
   "execution_count": 4,
   "id": "8c6488f8-5999-4af2-b66a-04bc2f19f88b",
   "metadata": {},
   "outputs": [],
   "source": [
    "x = df.drop(columns=targets)\n",
    "y = df[targets]"
   ]
  },
  {
   "cell_type": "code",
   "execution_count": 5,
   "id": "4cdf372b-7e23-4659-b32e-381323d837f2",
   "metadata": {},
   "outputs": [],
   "source": [
    "x_train, x_test, y_train, y_test = train_test_split(x, y, test_size=0.2)"
   ]
  },
  {
   "cell_type": "code",
   "execution_count": 6,
   "id": "87deb4e9-00a6-4d62-a520-d5338d2c336b",
   "metadata": {},
   "outputs": [
    {
     "ename": "TypeError",
     "evalue": "unsupported operand type(s) for +: 'float' and 'str'",
     "output_type": "error",
     "traceback": [
      "\u001b[1;31m---------------------------------------------------------------------------\u001b[0m",
      "\u001b[1;31mTypeError\u001b[0m                                 Traceback (most recent call last)",
      "Cell \u001b[1;32mIn[6], line 4\u001b[0m\n\u001b[0;32m      2\u001b[0m model\u001b[38;5;241m.\u001b[39mfit(x_train, y_train)\n\u001b[0;32m      3\u001b[0m y_pred \u001b[38;5;241m=\u001b[39m model\u001b[38;5;241m.\u001b[39mpredict(x_test)\n\u001b[1;32m----> 4\u001b[0m correlation_coef, _ \u001b[38;5;241m=\u001b[39m pearsonr(y_pred, y_test)\n\u001b[0;32m      6\u001b[0m \u001b[38;5;28mprint\u001b[39m(\u001b[38;5;124mf\u001b[39m\u001b[38;5;124m\"\u001b[39m\u001b[38;5;124mCorrelation coefficient: \u001b[39m\u001b[38;5;132;01m{\u001b[39;00mcorrelation_coef\u001b[38;5;132;01m}\u001b[39;00m\u001b[38;5;124m\"\u001b[39m)\n",
      "File \u001b[1;32m~\\anaconda3\\Lib\\site-packages\\scipy\\stats\\_stats_py.py:4827\u001b[0m, in \u001b[0;36mpearsonr\u001b[1;34m(x, y, alternative, method)\u001b[0m\n\u001b[0;32m   4824\u001b[0m     \u001b[38;5;28;01mreturn\u001b[39;00m result\n\u001b[0;32m   4826\u001b[0m xmean \u001b[38;5;241m=\u001b[39m x\u001b[38;5;241m.\u001b[39mmean(dtype\u001b[38;5;241m=\u001b[39mdtype)\n\u001b[1;32m-> 4827\u001b[0m ymean \u001b[38;5;241m=\u001b[39m y\u001b[38;5;241m.\u001b[39mmean(dtype\u001b[38;5;241m=\u001b[39mdtype)\n\u001b[0;32m   4829\u001b[0m \u001b[38;5;66;03m# By using `astype(dtype)`, we ensure that the intermediate calculations\u001b[39;00m\n\u001b[0;32m   4830\u001b[0m \u001b[38;5;66;03m# use at least 64 bit floating point.\u001b[39;00m\n\u001b[0;32m   4831\u001b[0m xm \u001b[38;5;241m=\u001b[39m x\u001b[38;5;241m.\u001b[39mastype(dtype) \u001b[38;5;241m-\u001b[39m xmean\n",
      "File \u001b[1;32m~\\anaconda3\\Lib\\site-packages\\numpy\\core\\_methods.py:118\u001b[0m, in \u001b[0;36m_mean\u001b[1;34m(a, axis, dtype, out, keepdims, where)\u001b[0m\n\u001b[0;32m    115\u001b[0m         dtype \u001b[38;5;241m=\u001b[39m mu\u001b[38;5;241m.\u001b[39mdtype(\u001b[38;5;124m'\u001b[39m\u001b[38;5;124mf4\u001b[39m\u001b[38;5;124m'\u001b[39m)\n\u001b[0;32m    116\u001b[0m         is_float16_result \u001b[38;5;241m=\u001b[39m \u001b[38;5;28;01mTrue\u001b[39;00m\n\u001b[1;32m--> 118\u001b[0m ret \u001b[38;5;241m=\u001b[39m umr_sum(arr, axis, dtype, out, keepdims, where\u001b[38;5;241m=\u001b[39mwhere)\n\u001b[0;32m    119\u001b[0m \u001b[38;5;28;01mif\u001b[39;00m \u001b[38;5;28misinstance\u001b[39m(ret, mu\u001b[38;5;241m.\u001b[39mndarray):\n\u001b[0;32m    120\u001b[0m     \u001b[38;5;28;01mwith\u001b[39;00m _no_nep50_warning():\n",
      "\u001b[1;31mTypeError\u001b[0m: unsupported operand type(s) for +: 'float' and 'str'"
     ]
    }
   ],
   "source": [
    "model = RandomForestRegressor()\n",
    "model.fit(x_train, y_train)\n",
    "y_pred = model.predict(x_test)\n",
    "correlation_coef, _ = pearsonr(y_pred, y_test)\n",
    "\n",
    "print(f\"Correlation coefficient: {correlation_coef}\")"
   ]
  },
  {
   "cell_type": "code",
   "execution_count": 11,
   "id": "0cfb9852-a8f7-49ae-9b9e-64c742ed93f3",
   "metadata": {},
   "outputs": [],
   "source": []
  },
  {
   "cell_type": "code",
   "execution_count": null,
   "id": "a9e0de82-021c-452f-ad77-e7251ded0732",
   "metadata": {},
   "outputs": [],
   "source": []
  }
 ],
 "metadata": {
  "kernelspec": {
   "display_name": "Python 3 (ipykernel)",
   "language": "python",
   "name": "python3"
  },
  "language_info": {
   "codemirror_mode": {
    "name": "ipython",
    "version": 3
   },
   "file_extension": ".py",
   "mimetype": "text/x-python",
   "name": "python",
   "nbconvert_exporter": "python",
   "pygments_lexer": "ipython3",
   "version": "3.11.5"
  }
 },
 "nbformat": 4,
 "nbformat_minor": 5
}
