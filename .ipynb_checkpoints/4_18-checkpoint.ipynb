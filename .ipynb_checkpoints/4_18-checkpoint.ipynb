{
 "cells": [
  {
   "cell_type": "code",
   "execution_count": 1,
   "id": "2032b2da-eab4-4886-8d7c-74f8ac1a56c7",
   "metadata": {},
   "outputs": [],
   "source": [
    "import pandas as pd\n",
    "from datetime import datetime\n",
    "import numpy as np\n",
    "import matplotlib.pyplot as plt\n",
    "from sklearn.model_selection import train_test_split\n",
    "from sklearn.ensemble import RandomForestRegressor\n",
    "from sklearn.metrics import mean_squared_error, r2_score\n",
    "from scipy.stats import pearsonr"
   ]
  },
  {
   "cell_type": "code",
   "execution_count": null,
   "id": "460b3367-2209-4fa7-9d89-03487e26f1f1",
   "metadata": {},
   "outputs": [],
   "source": [
    "df_full = pd.read_csv(\"./20240229_2308.csv\", header=None)\n",
    "\n",
    "# The maximum length of the dataset is the number of rows\n",
    "max_length = df_full.shape[0]\n",
    "\n",
    "# Print the maximum length\n",
    "print(f\"The maximum length of the dataset is: {max_length}\")\n",
    "\n",
    "# Now, you can use this information to set length_read appropriately\n",
    "length_read = min(12546000, max_length)  # for example, to limit it to 100000 or the maximum length available\n",
    "\n",
    "df_reduced = df_full.iloc[::10000, :]\n",
    "# Proceed with loading the desired portion of the dataset\n",
    "df = pd.read_csv(\"./20240229_2308.csv\", header=None).iloc[1:length_read:10000, :6]\n",
    "df.columns = [\"l1\",\"l2\",\"l3\",\"r1\",\"r2\",\"r3\"]\n",
    "df.head()"
   ]
  }
 ],
 "metadata": {
  "kernelspec": {
   "display_name": "Python 3 (ipykernel)",
   "language": "python",
   "name": "python3"
  },
  "language_info": {
   "codemirror_mode": {
    "name": "ipython",
    "version": 3
   },
   "file_extension": ".py",
   "mimetype": "text/x-python",
   "name": "python",
   "nbconvert_exporter": "python",
   "pygments_lexer": "ipython3",
   "version": "3.11.5"
  }
 },
 "nbformat": 4,
 "nbformat_minor": 5
}
